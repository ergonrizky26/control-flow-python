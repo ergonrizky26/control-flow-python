{
  "nbformat": 4,
  "nbformat_minor": 0,
  "metadata": {
    "colab": {
      "provenance": [],
      "authorship_tag": "ABX9TyMwLmCeHmJTnDKNbsRxZ3L1",
      "include_colab_link": true
    },
    "kernelspec": {
      "name": "python3",
      "display_name": "Python 3"
    },
    "language_info": {
      "name": "python"
    }
  },
  "cells": [
    {
      "cell_type": "markdown",
      "metadata": {
        "id": "view-in-github",
        "colab_type": "text"
      },
      "source": [
        "<a href=\"https://colab.research.google.com/github/ergonrizky26/control-flow-python/blob/main/Control_Flow.ipynb\" target=\"_parent\"><img src=\"https://colab.research.google.com/assets/colab-badge.svg\" alt=\"Open In Colab\"/></a>"
      ]
    },
    {
      "cell_type": "markdown",
      "source": [
        "## Control Flow"
      ],
      "metadata": {
        "id": "b2fne4hUdcRf"
      }
    },
    {
      "cell_type": "markdown",
      "source": [
        "### Kondisional"
      ],
      "metadata": {
        "id": "meReamAXde5v"
      }
    },
    {
      "cell_type": "code",
      "execution_count": 26,
      "metadata": {
        "colab": {
          "base_uri": "https://localhost:8080/"
        },
        "id": "FyED2RCldB8J",
        "outputId": "e610792d-1487-4e93-cb9c-11ba286cfe8c"
      },
      "outputs": [
        {
          "output_type": "stream",
          "name": "stdout",
          "text": [
            "True\n"
          ]
        }
      ],
      "source": [
        "# Jika...... maka .....\n",
        "\n",
        "# if .... elif .... else\n",
        "\n",
        "# jangan lupa adanya indentasi\n",
        "\n",
        "# jenis data boolean (TRUE dan FALSE)\n",
        "\n",
        "# Python membaca kode dari atas ke bawah (synchronous)\n",
        "\n",
        "a = 1\n",
        "b = 2\n",
        "a = 2\n",
        "print(a == b)\n",
        "\n",
        "# Comparison\n",
        "# a == b menunjukkan variabel a equal variabel b\n",
        "# a != b menunjukkan variabel a tidak equal dengan variabel b\n",
        "# a < b menunjukkan variabel a lebih kecil dari variabel b\n",
        "# a > b menunjukkan variabel a lebih besar dari variabel b\n",
        "# a >= b menunjukkan variabel a lebih besar sama dengan dari variabel b\n",
        "# a <= b menunjukkan variabel a lebih kecil sama dengan dari variabel b\n"
      ]
    },
    {
      "cell_type": "code",
      "source": [
        "# if ... elif\n",
        "\n",
        "nilai_ujian = 10\n",
        "\n",
        "if nilai_ujian > 60: # FALSE\n",
        "  print(\"Gagal\")\n",
        "elif  nilai_ujian <= 30: # TRUE\n",
        "  print(\"Kamu super sekali\")\n",
        "elif nilai_ujian <= 10: # TRUE\n",
        "  print(\"Kamu kelewatan\")"
      ],
      "metadata": {
        "colab": {
          "base_uri": "https://localhost:8080/"
        },
        "id": "MPuXwp3cfgsd",
        "outputId": "2b43bd17-21fb-4522-b72e-a6dc8f2fe505"
      },
      "execution_count": 27,
      "outputs": [
        {
          "output_type": "stream",
          "name": "stdout",
          "text": [
            "Kamu super sekali\n"
          ]
        }
      ]
    },
    {
      "cell_type": "code",
      "source": [
        "nilai_ujian_bahasa = \"\" # jenis tipe data string\n",
        "\n",
        "if nilai_ujian_bahasa:\n",
        "  print(\"Nilai\")"
      ],
      "metadata": {
        "id": "hNrwhOtJP7PY"
      },
      "execution_count": 28,
      "outputs": []
    },
    {
      "cell_type": "code",
      "source": [
        "# if ... elif ... else \n",
        "\n",
        "umur = 29 \n",
        "\n",
        "if umur < 25:\n",
        "  print(\"Belum tamat Kuliah\")\n",
        "elif umur < 17:\n",
        "  print(\"Belum tamat Sekolah\")\n",
        "elif umur < 30:\n",
        "  print(\"Sudah harusnya menikah\")\n",
        "elif umur < 40:\n",
        "  print(\"Sudah punya 4 anak\")\n",
        "else:\n",
        "  print(\"Sudah Tamat Kuliah dan Sekolah\")"
      ],
      "metadata": {
        "colab": {
          "base_uri": "https://localhost:8080/"
        },
        "id": "SjYFxwcOQO_c",
        "outputId": "dd1b7ccd-2a3c-4cda-d3df-0f7a2aa6c793"
      },
      "execution_count": 29,
      "outputs": [
        {
          "output_type": "stream",
          "name": "stdout",
          "text": [
            "Sudah harusnya menikah\n"
          ]
        }
      ]
    },
    {
      "cell_type": "code",
      "source": [
        "nilai_ujian = int(input(\"Berapa nilai ujian mu : \"))\n",
        "\n",
        "if nilai_ujian <= 60:\n",
        "  print(\"Kamu mengulang\")\n",
        "elif nilai_ujian <= 80:\n",
        "  print(\"Nilaimu bagus\")\n",
        "else:\n",
        "  print(\"Super sekali\")"
      ],
      "metadata": {
        "colab": {
          "base_uri": "https://localhost:8080/"
        },
        "id": "mGkE-9UdaAC9",
        "outputId": "4067a64f-ada9-4bdc-be84-b4859904969b"
      },
      "execution_count": 30,
      "outputs": [
        {
          "output_type": "stream",
          "name": "stdout",
          "text": [
            "Berapa nilai ujian mu : 100\n",
            "Super sekali\n"
          ]
        }
      ]
    },
    {
      "cell_type": "code",
      "source": [],
      "metadata": {
        "id": "NrWCCef4b4me"
      },
      "execution_count": 30,
      "outputs": []
    }
  ]
}