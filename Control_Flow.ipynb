{
  "nbformat": 4,
  "nbformat_minor": 0,
  "metadata": {
    "colab": {
      "provenance": [],
      "authorship_tag": "ABX9TyNIhIN4KfsLWepUgZm7G8GO",
      "include_colab_link": true
    },
    "kernelspec": {
      "name": "python3",
      "display_name": "Python 3"
    },
    "language_info": {
      "name": "python"
    }
  },
  "cells": [
    {
      "cell_type": "markdown",
      "metadata": {
        "id": "view-in-github",
        "colab_type": "text"
      },
      "source": [
        "<a href=\"https://colab.research.google.com/github/ergonrizky26/control-flow-python/blob/main/Control_Flow.ipynb\" target=\"_parent\"><img src=\"https://colab.research.google.com/assets/colab-badge.svg\" alt=\"Open In Colab\"/></a>"
      ]
    },
    {
      "cell_type": "markdown",
      "source": [
        "## Control Flow"
      ],
      "metadata": {
        "id": "b2fne4hUdcRf"
      }
    },
    {
      "cell_type": "markdown",
      "source": [
        "### Kondisional"
      ],
      "metadata": {
        "id": "meReamAXde5v"
      }
    },
    {
      "cell_type": "code",
      "execution_count": 7,
      "metadata": {
        "colab": {
          "base_uri": "https://localhost:8080/"
        },
        "id": "FyED2RCldB8J",
        "outputId": "8a684a39-8912-423c-a415-feee23a56154"
      },
      "outputs": [
        {
          "output_type": "stream",
          "name": "stdout",
          "text": [
            "True\n"
          ]
        }
      ],
      "source": [
        "# Jika...... maka .....\n",
        "\n",
        "# if .... elif .... else\n",
        "\n",
        "# jangan lupa adanya indentasi\n",
        "\n",
        "# jenis data boolean (TRUE dan FALSE)\n",
        "\n",
        "# Python membaca kode dari atas ke bawah (synchronous)\n",
        "\n",
        "a = 1\n",
        "b = 2\n",
        "a = 2\n",
        "print(a == b)\n",
        "\n",
        "# Comparison\n",
        "# a == b menunjukkan variabel a equal variabel b\n",
        "# a != b menunjukkan variabel a tidak equal dengan variabel b\n",
        "# a < b menunjukkan variabel a lebih kecil dari variabel b\n",
        "# a > b menunjukkan variabel a lebih besar dari variabel b\n",
        "# a >= b menunjukkan variabel a lebih besar sama dengan dari variabel b\n",
        "# a <= b menunjukkan variabel a lebih kecil sama dengan dari variabel b\n"
      ]
    },
    {
      "cell_type": "code",
      "source": [
        "# if ... elif\n",
        "\n",
        "nilai_ujian = 50\n",
        "\n",
        "if nilai_ujian <= 60: # TRUE\n",
        "  print(\"Gagal\")\n",
        "elif  nilai_ujian <= 30: # FALSE\n",
        "  print(\"Kamu super sekali\")"
      ],
      "metadata": {
        "colab": {
          "base_uri": "https://localhost:8080/"
        },
        "id": "MPuXwp3cfgsd",
        "outputId": "0e75c9cf-8106-4195-a8a9-0a4d6b6f1fdd"
      },
      "execution_count": 8,
      "outputs": [
        {
          "output_type": "stream",
          "name": "stdout",
          "text": [
            "Gagal\n"
          ]
        }
      ]
    },
    {
      "cell_type": "code",
      "source": [
        "nilai_ujian_matematika = 90\n",
        "\n",
        "if nilai_ujian_matematika <= 60:\n",
        "  print(\"Gagal\")"
      ],
      "metadata": {
        "id": "hNrwhOtJP7PY"
      },
      "execution_count": 9,
      "outputs": []
    },
    {
      "cell_type": "code",
      "source": [],
      "metadata": {
        "id": "SjYFxwcOQO_c"
      },
      "execution_count": 9,
      "outputs": []
    }
  ]
}